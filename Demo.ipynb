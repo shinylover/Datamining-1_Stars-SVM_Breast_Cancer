{
 "cells": [
  {
   "cell_type": "code",
   "execution_count": 16,
   "metadata": {},
   "outputs": [],
   "source": [
    "# 导入依赖包\n",
    "from sklearn.datasets import load_breast_cancer\n",
    "from sklearn.model_selection import train_test_split\n",
    "from sklearn.svm import SVC\n",
    "from sklearn.metrics import  classification_report\n",
    "from sklearn.model_selection import GridSearchCV\n",
    "import joblib\n",
    "import time\n"
   ]
  },
  {
   "cell_type": "code",
   "execution_count": 8,
   "metadata": {},
   "outputs": [
    {
     "name": "stdout",
     "output_type": "stream",
     "text": [
      "Thes shape of cancer dataset is (569, 30)\n",
      "Thes shape of label is (569,)\n"
     ]
    }
   ],
   "source": [
    "# 载入数据集\n",
    "cancer = load_breast_cancer()\n",
    "X = cancer.data\n",
    "Y = cancer.target\n",
    "print(f'The shape of cancer dataset is {X.shape}')\n",
    "print(f'The shape of label is {Y.shape}')\n"
   ]
  },
  {
   "cell_type": "code",
   "execution_count": 10,
   "metadata": {},
   "outputs": [
    {
     "name": "stdout",
     "output_type": "stream",
     "text": [
      "The shape of X_train is (455, 30)\n",
      "The shape of y_train is (455,)\n",
      "The shape of X_test is (114, 30)\n",
      "The shape of y_test is (114,)\n"
     ]
    }
   ],
   "source": [
    "# 划分训练集合测试集，比例为 8:2\n",
    "X_train, X_test, y_train, y_test = train_test_split(X, Y, test_size=0.2)\n",
    "print(f'The shape of X_train is {X_train.shape}')\n",
    "print(f'The shape of y_train is {y_train.shape}')\n",
    "print(f'The shape of X_test is {X_test.shape}')\n",
    "print(f'The shape of y_test is {y_test.shape}')"
   ]
  },
  {
   "cell_type": "code",
   "execution_count": 13,
   "metadata": {},
   "outputs": [
    {
     "data": {
      "text/plain": [
       "['svc_breast_cancer.m']"
      ]
     },
     "execution_count": 13,
     "metadata": {},
     "output_type": "execute_result"
    }
   ],
   "source": [
    "# 建模\n",
    "clf_svc = SVC()\n",
    "clf_svc.fit(X_train, y_train)\n"
   ]
  },
  {
   "cell_type": "code",
   "execution_count": 18,
   "metadata": {},
   "outputs": [
    {
     "name": "stdout",
     "output_type": "stream",
     "text": [
      "The accuracy of the SVC model is 86.8421052631579%\n",
      "The report of the SVC model is \n",
      "               precision    recall  f1-score   support\n",
      "\n",
      "           0       0.97      0.67      0.79        43\n",
      "           1       0.83      0.99      0.90        71\n",
      "\n",
      "    accuracy                           0.87       114\n",
      "   macro avg       0.90      0.83      0.85       114\n",
      "weighted avg       0.88      0.87      0.86       114\n",
      "\n"
     ]
    }
   ],
   "source": [
    "# 模型评估\n",
    "accuracy = clf_svc.score(X_test, y_test)\n",
    "print(f'The accuracy of the SVC model is {accuracy*100}%')\n",
    "y_pred = clf_svc.predict(X_test)\n",
    "print(f'The report of the SVC model is \\n {classification_report(y_test, y_pred)}')"
   ]
  },
  {
   "cell_type": "code",
   "execution_count": 25,
   "metadata": {},
   "outputs": [
    {
     "name": "stdout",
     "output_type": "stream",
     "text": [
      "The best parameters are {'C': 10, 'kernel': 'linear'}\n",
      "The accuracy of the SVC model is 98.24561403508771%\n",
      "The report of the SVC model is \n",
      "               precision    recall  f1-score   support\n",
      "\n",
      "           0       1.00      0.95      0.98        43\n",
      "           1       0.97      1.00      0.99        71\n",
      "\n",
      "    accuracy                           0.98       114\n",
      "   macro avg       0.99      0.98      0.98       114\n",
      "weighted avg       0.98      0.98      0.98       114\n",
      "\n"
     ]
    },
    {
     "data": {
      "text/plain": [
       "['svc_breast_cancer.m']"
      ]
     },
     "execution_count": 25,
     "metadata": {},
     "output_type": "execute_result"
    }
   ],
   "source": [
    "# 参数调优\n",
    "parameters = {'kernel':('linear', 'rbf'), 'C':[1, 10]}\n",
    "svc = SVC()\n",
    "clf = GridSearchCV(svc, parameters)\n",
    "clf.fit(X_train, y_train)\n",
    "print(f'The best parameters are {clf.best_params_}')\n",
    "accuracy = clf.score(X_test, y_test)\n",
    "print(f'The accuracy of the SVC model is {accuracy*100}%')\n",
    "y_pred = clf.predict(X_test)\n",
    "print(f'The report of the SVC model is \\n {classification_report(y_test, y_pred)}')\n",
    "# 保存模型\n",
    "joblib.dump(clf, \"svc_breast_cancer.m\")"
   ]
  },
  {
   "cell_type": "code",
   "execution_count": 29,
   "metadata": {},
   "outputs": [
    {
     "name": "stdout",
     "output_type": "stream",
     "text": [
      "--------------The 1th data result is: ---------------------- \n",
      "The Result of Model is 1\n",
      "The True value is 1 \n",
      "\n",
      "--------------The 2th data result is: ---------------------- \n",
      "The Result of Model is 0\n",
      "The True value is 0 \n",
      "\n",
      "--------------The 3th data result is: ---------------------- \n",
      "The Result of Model is 0\n",
      "The True value is 0 \n",
      "\n",
      "--------------The 4th data result is: ---------------------- \n",
      "The Result of Model is 1\n",
      "The True value is 1 \n",
      "\n",
      "--------------The 5th data result is: ---------------------- \n",
      "The Result of Model is 1\n",
      "The True value is 1 \n",
      "\n",
      "--------------The 6th data result is: ---------------------- \n",
      "The Result of Model is 1\n",
      "The True value is 1 \n",
      "\n",
      "--------------The 7th data result is: ---------------------- \n",
      "The Result of Model is 1\n",
      "The True value is 1 \n",
      "\n",
      "--------------The 8th data result is: ---------------------- \n",
      "The Result of Model is 0\n",
      "The True value is 0 \n",
      "\n",
      "--------------The 9th data result is: ---------------------- \n",
      "The Result of Model is 1\n",
      "The True value is 1 \n",
      "\n"
     ]
    },
    {
     "ename": "KeyboardInterrupt",
     "evalue": "",
     "output_type": "error",
     "traceback": [
      "\u001b[1;31m---------------------------------------------------------------------------\u001b[0m",
      "\u001b[1;31mKeyboardInterrupt\u001b[0m                         Traceback (most recent call last)",
      "\u001b[1;32mC:\\Users\\JON~1.SCO\\AppData\\Local\\Temp/ipykernel_22524/1812032861.py\u001b[0m in \u001b[0;36m<module>\u001b[1;34m\u001b[0m\n\u001b[0;32m      7\u001b[0m     \u001b[0mprint\u001b[0m\u001b[1;33m(\u001b[0m\u001b[1;34mf\"The Result of Model is {result_SVM[0]}\"\u001b[0m\u001b[1;33m)\u001b[0m\u001b[1;33m\u001b[0m\u001b[1;33m\u001b[0m\u001b[0m\n\u001b[0;32m      8\u001b[0m     \u001b[0mprint\u001b[0m\u001b[1;33m(\u001b[0m\u001b[1;34mf\"The True value is {y_test[i]} \\n\"\u001b[0m\u001b[1;33m)\u001b[0m\u001b[1;33m\u001b[0m\u001b[1;33m\u001b[0m\u001b[0m\n\u001b[1;32m----> 9\u001b[1;33m     \u001b[0mtime\u001b[0m\u001b[1;33m.\u001b[0m\u001b[0msleep\u001b[0m\u001b[1;33m(\u001b[0m\u001b[1;36m1\u001b[0m\u001b[1;33m)\u001b[0m\u001b[1;33m\u001b[0m\u001b[1;33m\u001b[0m\u001b[0m\n\u001b[0m",
      "\u001b[1;31mKeyboardInterrupt\u001b[0m: "
     ]
    }
   ],
   "source": [
    "# 模拟线上部署\n",
    "clf_online = joblib.load(\"svc_breast_cancer.m\")\n",
    "for i, e in enumerate(X_test):\n",
    "    result_SVM = clf_online.predict([e])\n",
    "    print(f\"--------------The {i+1}th data result is: ---------------------- \")\n",
    "    print(f\"The Result of Model is {result_SVM[0]}\")\n",
    "    print(f\"The True value is {y_test[i]} \\n\")\n",
    "    time.sleep(1)"
   ]
  }
 ],
 "metadata": {
  "interpreter": {
   "hash": "57c9b78d73b16070ae0b58f71ce5526308cba9778f3cc9adb1275d6dedfb9b62"
  },
  "kernelspec": {
   "display_name": "Python 3.7.11 64-bit ('soar_new': conda)",
   "name": "python3"
  },
  "language_info": {
   "codemirror_mode": {
    "name": "ipython",
    "version": 3
   },
   "file_extension": ".py",
   "mimetype": "text/x-python",
   "name": "python",
   "nbconvert_exporter": "python",
   "pygments_lexer": "ipython3",
   "version": "3.7.11"
  },
  "orig_nbformat": 4
 },
 "nbformat": 4,
 "nbformat_minor": 2
}
